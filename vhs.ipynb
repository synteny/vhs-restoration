{
 "cells": [
  {
   "cell_type": "code",
   "execution_count": 103,
   "metadata": {
    "collapsed": true
   },
   "outputs": [],
   "source": [
    "N=10\n",
    "with open(\"ids.txt\", 'rt') as myfile:\n",
    "    head = [next(myfile) for _ in range(N)]"
   ]
  },
  {
   "cell_type": "code",
   "execution_count": 99,
   "metadata": {
    "collapsed": false
   },
   "outputs": [
    {
     "data": {
      "text/plain": [
       "100"
      ]
     },
     "execution_count": 99,
     "metadata": {},
     "output_type": "execute_result"
    }
   ],
   "source": [
    ""
   ]
  },
  {
   "cell_type": "code",
   "execution_count": 92,
   "metadata": {
    "collapsed": true
   },
   "outputs": [],
   "source": [
    "BASE='https://www.youtube.com/watch?v='\n",
    "url=[None]*N"
   ]
  },
  {
   "cell_type": "code",
   "execution_count": 20,
   "metadata": {
    "collapsed": false
   },
   "outputs": [
    {
     "data": {
      "text/plain": [
       "'https://www.youtube.com/watch?v=b-JxUwp1axI'"
      ]
     },
     "execution_count": 20,
     "metadata": {},
     "output_type": "execute_result"
    }
   ],
   "source": [
    "#url[1]"
   ]
  },
  {
   "cell_type": "code",
   "execution_count": 93,
   "metadata": {
    "collapsed": false
   },
   "outputs": [],
   "source": [
    "for x in range(0,N):\n",
    "    head[x]=head[x].replace('\\n','')\n",
    "    url[x]=BASE+head[x]"
   ]
  },
  {
   "cell_type": "code",
   "execution_count": 94,
   "metadata": {
    "collapsed": false
   },
   "outputs": [],
   "source": [
    "# ydl1.py\n",
    "from __future__ import unicode_literals\n",
    "import youtube_dl\n",
    "\n",
    "ydl_opts = {'outtmpl': '%(id)s%(ext)s'}"
   ]
  },
  {
   "cell_type": "code",
   "execution_count": 95,
   "metadata": {
    "collapsed": false
   },
   "outputs": [],
   "source": [
    "def get_formats(url):\n",
    "    with youtube_dl.YoutubeDL(ydl_opts) as ydl:\n",
    "        return {f['format'].split()[0] for f in ydl.extract_info(url, download=False)['formats']}"
   ]
  },
  {
   "cell_type": "code",
   "execution_count": 96,
   "metadata": {
    "collapsed": false
   },
   "outputs": [
    {
     "data": {
      "text/plain": [
       "15"
      ]
     },
     "execution_count": 96,
     "metadata": {},
     "output_type": "execute_result"
    }
   ],
   "source": [
    "len(list_formats)"
   ]
  },
  {
   "cell_type": "code",
   "execution_count": 97,
   "metadata": {
    "collapsed": false
   },
   "outputs": [
    {
     "name": "stdout",
     "output_type": "stream",
     "text": [
      "[youtube] 3PCAvqEwl5Q: Downloading webpage\n",
      "[youtube] 3PCAvqEwl5Q: Downloading video info webpage\n",
      "[youtube] 3PCAvqEwl5Q: Extracting video information\n",
      "[youtube] 3PCAvqEwl5Q: Downloading MPD manifest\n"
     ]
    }
   ],
   "source": [
    "list_formats=get_formats(url[0])"
   ]
  },
  {
   "cell_type": "code",
   "execution_count": 100,
   "metadata": {
    "collapsed": false
   },
   "outputs": [
    {
     "data": {
      "text/plain": [
       "{'133',\n",
       " '134',\n",
       " '140',\n",
       " '160',\n",
       " '17',\n",
       " '171',\n",
       " '18',\n",
       " '242',\n",
       " '243',\n",
       " '249',\n",
       " '250',\n",
       " '251',\n",
       " '278',\n",
       " '36',\n",
       " '43'}"
      ]
     },
     "execution_count": 100,
     "metadata": {},
     "output_type": "execute_result"
    }
   ],
   "source": [
    "list_formats"
   ]
  },
  {
   "cell_type": "code",
   "execution_count": 104,
   "metadata": {
    "collapsed": true
   },
   "outputs": [],
   "source": [
    "def dl_selected(urls):\n",
    "    for url in urls:\n",
    "        if ('135' in get_formats(url)):\n",
    "            ydl.download(url)"
   ]
  },
  {
   "cell_type": "code",
   "execution_count": 105,
   "metadata": {
    "collapsed": false
   },
   "outputs": [
    {
     "name": "stdout",
     "output_type": "stream",
     "text": [
      "[youtube] 3PCAvqEwl5Q: Downloading webpage\n",
      "[youtube] 3PCAvqEwl5Q: Downloading video info webpage\n",
      "[youtube] 3PCAvqEwl5Q: Extracting video information\n",
      "[youtube] 3PCAvqEwl5Q: Downloading MPD manifest\n",
      "[youtube] b-JxUwp1axI: Downloading webpage\n",
      "[youtube] b-JxUwp1axI: Downloading video info webpage\n",
      "[youtube] b-JxUwp1axI: Extracting video information\n",
      "[youtube] b-JxUwp1axI: Downloading MPD manifest\n",
      "[youtube] b-JxUwp1axI: Downloading MPD manifest\n",
      "b-JxUwp1axI\n",
      "\n",
      "[youtube] 832tfarlQig: Downloading webpage\n",
      "[youtube] 832tfarlQig: Downloading video info webpage\n",
      "[youtube] 832tfarlQig: Extracting video information\n",
      "[youtube] 832tfarlQig: Downloading MPD manifest\n",
      "[youtube] 832tfarlQig: Downloading MPD manifest\n",
      "832tfarlQig\n",
      "\n",
      "[youtube] M4KANwpQeRU: Downloading webpage\n",
      "[youtube] M4KANwpQeRU: Downloading video info webpage\n",
      "[youtube] M4KANwpQeRU: Extracting video information\n",
      "[youtube] M4KANwpQeRU: Downloading js player en_US-vfl2GjLln\n",
      "[youtube] WEf6uxqwu6M: Downloading webpage\n",
      "[youtube] WEf6uxqwu6M: Downloading video info webpage\n",
      "[youtube] WEf6uxqwu6M: Extracting video information\n",
      "[youtube] WEf6uxqwu6M: Downloading MPD manifest\n",
      "WEf6uxqwu6M\n",
      "\n",
      "[youtube] neHsFTXTGxg: Downloading webpage\n",
      "[youtube] neHsFTXTGxg: Downloading video info webpage\n",
      "[youtube] neHsFTXTGxg: Extracting video information\n",
      "[youtube] neHsFTXTGxg: Downloading MPD manifest\n",
      "neHsFTXTGxg\n",
      "\n",
      "[youtube] 6VxzNQ9c_0Q: Downloading webpage\n",
      "[youtube] 6VxzNQ9c_0Q: Downloading video info webpage\n",
      "[youtube] 6VxzNQ9c_0Q: Extracting video information\n",
      "[youtube] 6VxzNQ9c_0Q: Downloading js player en_US-vfl2GjLln\n",
      "6VxzNQ9c_0Q\n",
      "\n",
      "[youtube] cpoAbZo5Obs: Downloading webpage\n",
      "[youtube] cpoAbZo5Obs: Downloading video info webpage\n",
      "[youtube] cpoAbZo5Obs: Extracting video information\n",
      "[youtube] cpoAbZo5Obs: Downloading MPD manifest\n",
      "cpoAbZo5Obs\n",
      "\n",
      "[youtube] 4nJgOuFb9Yw: Downloading webpage\n",
      "[youtube] 4nJgOuFb9Yw: Downloading video info webpage\n",
      "[youtube] 4nJgOuFb9Yw: Extracting video information\n",
      "[youtube] 4nJgOuFb9Yw: Downloading MPD manifest\n",
      "[youtube] 4nJgOuFb9Yw: Downloading MPD manifest\n",
      "4nJgOuFb9Yw\n",
      "\n",
      "[youtube] v-6QgfUz5u4: Downloading webpage\n",
      "[youtube] v-6QgfUz5u4: Downloading video info webpage\n",
      "[youtube] v-6QgfUz5u4: Extracting video information\n",
      "[youtube] v-6QgfUz5u4: Downloading MPD manifest\n",
      "[youtube] v-6QgfUz5u4: Downloading MPD manifest\n",
      "v-6QgfUz5u4\n",
      "\n"
     ]
    }
   ],
   "source": [
    "dl_selected(head)"
   ]
  }
 ],
 "metadata": {
  "kernelspec": {
   "display_name": "Python 3",
   "language": "python",
   "name": "python3"
  },
  "language_info": {
   "codemirror_mode": {
    "name": "ipython",
    "version": 3.0
   },
   "file_extension": ".py",
   "mimetype": "text/x-python",
   "name": "python",
   "nbconvert_exporter": "python",
   "pygments_lexer": "ipython3",
   "version": "3.5.2"
  }
 },
 "nbformat": 4,
 "nbformat_minor": 0
}